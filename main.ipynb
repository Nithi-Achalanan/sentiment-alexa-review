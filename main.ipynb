{
 "cells": [
  {
   "cell_type": "code",
   "execution_count": 1,
   "metadata": {},
   "outputs": [
    {
     "name": "stderr",
     "output_type": "stream",
     "text": [
      "[nltk_data] Downloading package omw-1.4 to\n",
      "[nltk_data]     C:\\Users\\punpo\\AppData\\Roaming\\nltk_data...\n",
      "[nltk_data]   Package omw-1.4 is already up-to-date!\n",
      "[nltk_data] Downloading package stopwords to\n",
      "[nltk_data]     C:\\Users\\punpo\\AppData\\Roaming\\nltk_data...\n",
      "[nltk_data]   Package stopwords is already up-to-date!\n"
     ]
    },
    {
     "data": {
      "text/plain": [
       "True"
      ]
     },
     "execution_count": 1,
     "metadata": {},
     "output_type": "execute_result"
    }
   ],
   "source": [
    "import pandas as pd\n",
    "import numpy as np\n",
    "import seaborn as sns\n",
    "import matplotlib.pyplot as plt\n",
    "import re\n",
    "import contractions\n",
    "import nltk\n",
    "nltk.download('omw-1.4')\n",
    "nltk.download('stopwords')"
   ]
  },
  {
   "cell_type": "code",
   "execution_count": 2,
   "metadata": {},
   "outputs": [
    {
     "data": {
      "text/html": [
       "<div>\n",
       "<style scoped>\n",
       "    .dataframe tbody tr th:only-of-type {\n",
       "        vertical-align: middle;\n",
       "    }\n",
       "\n",
       "    .dataframe tbody tr th {\n",
       "        vertical-align: top;\n",
       "    }\n",
       "\n",
       "    .dataframe thead th {\n",
       "        text-align: right;\n",
       "    }\n",
       "</style>\n",
       "<table border=\"1\" class=\"dataframe\">\n",
       "  <thead>\n",
       "    <tr style=\"text-align: right;\">\n",
       "      <th></th>\n",
       "      <th>rating</th>\n",
       "      <th>date</th>\n",
       "      <th>variation</th>\n",
       "      <th>verified_reviews</th>\n",
       "      <th>feedback</th>\n",
       "    </tr>\n",
       "  </thead>\n",
       "  <tbody>\n",
       "    <tr>\n",
       "      <th>0</th>\n",
       "      <td>5</td>\n",
       "      <td>31-Jul-18</td>\n",
       "      <td>Charcoal Fabric</td>\n",
       "      <td>Love my Echo!</td>\n",
       "      <td>1</td>\n",
       "    </tr>\n",
       "    <tr>\n",
       "      <th>1</th>\n",
       "      <td>5</td>\n",
       "      <td>31-Jul-18</td>\n",
       "      <td>Charcoal Fabric</td>\n",
       "      <td>Loved it!</td>\n",
       "      <td>1</td>\n",
       "    </tr>\n",
       "    <tr>\n",
       "      <th>2</th>\n",
       "      <td>4</td>\n",
       "      <td>31-Jul-18</td>\n",
       "      <td>Walnut Finish</td>\n",
       "      <td>Sometimes while playing a game, you can answer...</td>\n",
       "      <td>1</td>\n",
       "    </tr>\n",
       "    <tr>\n",
       "      <th>3</th>\n",
       "      <td>5</td>\n",
       "      <td>31-Jul-18</td>\n",
       "      <td>Charcoal Fabric</td>\n",
       "      <td>I have had a lot of fun with this thing. My 4 ...</td>\n",
       "      <td>1</td>\n",
       "    </tr>\n",
       "    <tr>\n",
       "      <th>4</th>\n",
       "      <td>5</td>\n",
       "      <td>31-Jul-18</td>\n",
       "      <td>Charcoal Fabric</td>\n",
       "      <td>Music</td>\n",
       "      <td>1</td>\n",
       "    </tr>\n",
       "    <tr>\n",
       "      <th>...</th>\n",
       "      <td>...</td>\n",
       "      <td>...</td>\n",
       "      <td>...</td>\n",
       "      <td>...</td>\n",
       "      <td>...</td>\n",
       "    </tr>\n",
       "    <tr>\n",
       "      <th>3145</th>\n",
       "      <td>5</td>\n",
       "      <td>30-Jul-18</td>\n",
       "      <td>Black  Dot</td>\n",
       "      <td>Perfect for kids, adults and everyone in betwe...</td>\n",
       "      <td>1</td>\n",
       "    </tr>\n",
       "    <tr>\n",
       "      <th>3146</th>\n",
       "      <td>5</td>\n",
       "      <td>30-Jul-18</td>\n",
       "      <td>Black  Dot</td>\n",
       "      <td>Listening to music, searching locations, check...</td>\n",
       "      <td>1</td>\n",
       "    </tr>\n",
       "    <tr>\n",
       "      <th>3147</th>\n",
       "      <td>5</td>\n",
       "      <td>30-Jul-18</td>\n",
       "      <td>Black  Dot</td>\n",
       "      <td>I do love these things, i have them running my...</td>\n",
       "      <td>1</td>\n",
       "    </tr>\n",
       "    <tr>\n",
       "      <th>3148</th>\n",
       "      <td>5</td>\n",
       "      <td>30-Jul-18</td>\n",
       "      <td>White  Dot</td>\n",
       "      <td>Only complaint I have is that the sound qualit...</td>\n",
       "      <td>1</td>\n",
       "    </tr>\n",
       "    <tr>\n",
       "      <th>3149</th>\n",
       "      <td>4</td>\n",
       "      <td>29-Jul-18</td>\n",
       "      <td>Black  Dot</td>\n",
       "      <td>Good</td>\n",
       "      <td>1</td>\n",
       "    </tr>\n",
       "  </tbody>\n",
       "</table>\n",
       "<p>3150 rows × 5 columns</p>\n",
       "</div>"
      ],
      "text/plain": [
       "      rating       date         variation  \\\n",
       "0          5  31-Jul-18  Charcoal Fabric    \n",
       "1          5  31-Jul-18  Charcoal Fabric    \n",
       "2          4  31-Jul-18    Walnut Finish    \n",
       "3          5  31-Jul-18  Charcoal Fabric    \n",
       "4          5  31-Jul-18  Charcoal Fabric    \n",
       "...      ...        ...               ...   \n",
       "3145       5  30-Jul-18        Black  Dot   \n",
       "3146       5  30-Jul-18        Black  Dot   \n",
       "3147       5  30-Jul-18        Black  Dot   \n",
       "3148       5  30-Jul-18        White  Dot   \n",
       "3149       4  29-Jul-18        Black  Dot   \n",
       "\n",
       "                                       verified_reviews  feedback  \n",
       "0                                         Love my Echo!         1  \n",
       "1                                             Loved it!         1  \n",
       "2     Sometimes while playing a game, you can answer...         1  \n",
       "3     I have had a lot of fun with this thing. My 4 ...         1  \n",
       "4                                                 Music         1  \n",
       "...                                                 ...       ...  \n",
       "3145  Perfect for kids, adults and everyone in betwe...         1  \n",
       "3146  Listening to music, searching locations, check...         1  \n",
       "3147  I do love these things, i have them running my...         1  \n",
       "3148  Only complaint I have is that the sound qualit...         1  \n",
       "3149                                               Good         1  \n",
       "\n",
       "[3150 rows x 5 columns]"
      ]
     },
     "execution_count": 2,
     "metadata": {},
     "output_type": "execute_result"
    }
   ],
   "source": [
    "#Load the data \n",
    "review_df = pd.read_csv('amazon_alexa.tsv', sep ='\\t')\n",
    "review_df"
   ]
  },
  {
   "cell_type": "code",
   "execution_count": 3,
   "metadata": {},
   "outputs": [
    {
     "name": "stdout",
     "output_type": "stream",
     "text": [
      "<class 'pandas.core.frame.DataFrame'>\n",
      "RangeIndex: 3150 entries, 0 to 3149\n",
      "Data columns (total 5 columns):\n",
      " #   Column            Non-Null Count  Dtype \n",
      "---  ------            --------------  ----- \n",
      " 0   rating            3150 non-null   int64 \n",
      " 1   date              3150 non-null   object\n",
      " 2   variation         3150 non-null   object\n",
      " 3   verified_reviews  3150 non-null   object\n",
      " 4   feedback          3150 non-null   int64 \n",
      "dtypes: int64(2), object(3)\n",
      "memory usage: 123.2+ KB\n"
     ]
    }
   ],
   "source": [
    "review_df.info()"
   ]
  },
  {
   "cell_type": "code",
   "execution_count": 4,
   "metadata": {},
   "outputs": [],
   "source": [
    "review_df[\"length\"] = review_df['verified_reviews'].apply(len)\n"
   ]
  },
  {
   "cell_type": "code",
   "execution_count": 5,
   "metadata": {},
   "outputs": [
    {
     "data": {
      "text/html": [
       "<div>\n",
       "<style scoped>\n",
       "    .dataframe tbody tr th:only-of-type {\n",
       "        vertical-align: middle;\n",
       "    }\n",
       "\n",
       "    .dataframe tbody tr th {\n",
       "        vertical-align: top;\n",
       "    }\n",
       "\n",
       "    .dataframe thead th {\n",
       "        text-align: right;\n",
       "    }\n",
       "</style>\n",
       "<table border=\"1\" class=\"dataframe\">\n",
       "  <thead>\n",
       "    <tr style=\"text-align: right;\">\n",
       "      <th></th>\n",
       "      <th>rating</th>\n",
       "      <th>feedback</th>\n",
       "      <th>length</th>\n",
       "    </tr>\n",
       "  </thead>\n",
       "  <tbody>\n",
       "    <tr>\n",
       "      <th>count</th>\n",
       "      <td>3150.000000</td>\n",
       "      <td>3150.000000</td>\n",
       "      <td>3150.000000</td>\n",
       "    </tr>\n",
       "    <tr>\n",
       "      <th>mean</th>\n",
       "      <td>4.463175</td>\n",
       "      <td>0.918413</td>\n",
       "      <td>132.049524</td>\n",
       "    </tr>\n",
       "    <tr>\n",
       "      <th>std</th>\n",
       "      <td>1.068506</td>\n",
       "      <td>0.273778</td>\n",
       "      <td>182.099952</td>\n",
       "    </tr>\n",
       "    <tr>\n",
       "      <th>min</th>\n",
       "      <td>1.000000</td>\n",
       "      <td>0.000000</td>\n",
       "      <td>1.000000</td>\n",
       "    </tr>\n",
       "    <tr>\n",
       "      <th>25%</th>\n",
       "      <td>4.000000</td>\n",
       "      <td>1.000000</td>\n",
       "      <td>30.000000</td>\n",
       "    </tr>\n",
       "    <tr>\n",
       "      <th>50%</th>\n",
       "      <td>5.000000</td>\n",
       "      <td>1.000000</td>\n",
       "      <td>74.000000</td>\n",
       "    </tr>\n",
       "    <tr>\n",
       "      <th>75%</th>\n",
       "      <td>5.000000</td>\n",
       "      <td>1.000000</td>\n",
       "      <td>165.000000</td>\n",
       "    </tr>\n",
       "    <tr>\n",
       "      <th>max</th>\n",
       "      <td>5.000000</td>\n",
       "      <td>1.000000</td>\n",
       "      <td>2851.000000</td>\n",
       "    </tr>\n",
       "  </tbody>\n",
       "</table>\n",
       "</div>"
      ],
      "text/plain": [
       "            rating     feedback       length\n",
       "count  3150.000000  3150.000000  3150.000000\n",
       "mean      4.463175     0.918413   132.049524\n",
       "std       1.068506     0.273778   182.099952\n",
       "min       1.000000     0.000000     1.000000\n",
       "25%       4.000000     1.000000    30.000000\n",
       "50%       5.000000     1.000000    74.000000\n",
       "75%       5.000000     1.000000   165.000000\n",
       "max       5.000000     1.000000  2851.000000"
      ]
     },
     "execution_count": 5,
     "metadata": {},
     "output_type": "execute_result"
    }
   ],
   "source": [
    "review_df.describe()"
   ]
  },
  {
   "cell_type": "code",
   "execution_count": 6,
   "metadata": {},
   "outputs": [
    {
     "data": {
      "text/plain": [
       "<AxesSubplot: xlabel='rating', ylabel='count'>"
      ]
     },
     "execution_count": 6,
     "metadata": {},
     "output_type": "execute_result"
    },
    {
     "data": {
      "image/png": "[encoded data removed]",
      "text/plain": [
       "<Figure size 640x480 with 1 Axes>"
      ]
     },
     "metadata": {},
     "output_type": "display_data"
    }
   ],
   "source": [
    "sns.countplot(x = review_df[\"rating\"])"
   ]
  },
  {
   "cell_type": "code",
   "execution_count": 7,
   "metadata": {},
   "outputs": [
    {
     "data": {
      "text/html": [
       "<div>\n",
       "<style scoped>\n",
       "    .dataframe tbody tr th:only-of-type {\n",
       "        vertical-align: middle;\n",
       "    }\n",
       "\n",
       "    .dataframe tbody tr th {\n",
       "        vertical-align: top;\n",
       "    }\n",
       "\n",
       "    .dataframe thead th {\n",
       "        text-align: right;\n",
       "    }\n",
       "</style>\n",
       "<table border=\"1\" class=\"dataframe\">\n",
       "  <thead>\n",
       "    <tr style=\"text-align: right;\">\n",
       "      <th></th>\n",
       "      <th>rating</th>\n",
       "      <th>date</th>\n",
       "      <th>variation</th>\n",
       "      <th>verified_reviews</th>\n",
       "      <th>feedback</th>\n",
       "      <th>length</th>\n",
       "    </tr>\n",
       "  </thead>\n",
       "  <tbody>\n",
       "    <tr>\n",
       "      <th>0</th>\n",
       "      <td>5</td>\n",
       "      <td>31-Jul-18</td>\n",
       "      <td>Charcoal Fabric</td>\n",
       "      <td>Love my Echo!</td>\n",
       "      <td>1</td>\n",
       "      <td>13</td>\n",
       "    </tr>\n",
       "    <tr>\n",
       "      <th>1</th>\n",
       "      <td>5</td>\n",
       "      <td>31-Jul-18</td>\n",
       "      <td>Charcoal Fabric</td>\n",
       "      <td>Loved it!</td>\n",
       "      <td>1</td>\n",
       "      <td>9</td>\n",
       "    </tr>\n",
       "    <tr>\n",
       "      <th>2</th>\n",
       "      <td>4</td>\n",
       "      <td>31-Jul-18</td>\n",
       "      <td>Walnut Finish</td>\n",
       "      <td>Sometimes while playing a game, you can answer...</td>\n",
       "      <td>1</td>\n",
       "      <td>195</td>\n",
       "    </tr>\n",
       "    <tr>\n",
       "      <th>3</th>\n",
       "      <td>5</td>\n",
       "      <td>31-Jul-18</td>\n",
       "      <td>Charcoal Fabric</td>\n",
       "      <td>I have had a lot of fun with this thing. My 4 ...</td>\n",
       "      <td>1</td>\n",
       "      <td>172</td>\n",
       "    </tr>\n",
       "    <tr>\n",
       "      <th>4</th>\n",
       "      <td>5</td>\n",
       "      <td>31-Jul-18</td>\n",
       "      <td>Charcoal Fabric</td>\n",
       "      <td>Music</td>\n",
       "      <td>1</td>\n",
       "      <td>5</td>\n",
       "    </tr>\n",
       "    <tr>\n",
       "      <th>...</th>\n",
       "      <td>...</td>\n",
       "      <td>...</td>\n",
       "      <td>...</td>\n",
       "      <td>...</td>\n",
       "      <td>...</td>\n",
       "      <td>...</td>\n",
       "    </tr>\n",
       "    <tr>\n",
       "      <th>3145</th>\n",
       "      <td>5</td>\n",
       "      <td>30-Jul-18</td>\n",
       "      <td>Black  Dot</td>\n",
       "      <td>Perfect for kids, adults and everyone in betwe...</td>\n",
       "      <td>1</td>\n",
       "      <td>50</td>\n",
       "    </tr>\n",
       "    <tr>\n",
       "      <th>3146</th>\n",
       "      <td>5</td>\n",
       "      <td>30-Jul-18</td>\n",
       "      <td>Black  Dot</td>\n",
       "      <td>Listening to music, searching locations, check...</td>\n",
       "      <td>1</td>\n",
       "      <td>135</td>\n",
       "    </tr>\n",
       "    <tr>\n",
       "      <th>3147</th>\n",
       "      <td>5</td>\n",
       "      <td>30-Jul-18</td>\n",
       "      <td>Black  Dot</td>\n",
       "      <td>I do love these things, i have them running my...</td>\n",
       "      <td>1</td>\n",
       "      <td>441</td>\n",
       "    </tr>\n",
       "    <tr>\n",
       "      <th>3148</th>\n",
       "      <td>5</td>\n",
       "      <td>30-Jul-18</td>\n",
       "      <td>White  Dot</td>\n",
       "      <td>Only complaint I have is that the sound qualit...</td>\n",
       "      <td>1</td>\n",
       "      <td>380</td>\n",
       "    </tr>\n",
       "    <tr>\n",
       "      <th>3149</th>\n",
       "      <td>4</td>\n",
       "      <td>29-Jul-18</td>\n",
       "      <td>Black  Dot</td>\n",
       "      <td>Good</td>\n",
       "      <td>1</td>\n",
       "      <td>4</td>\n",
       "    </tr>\n",
       "  </tbody>\n",
       "</table>\n",
       "<p>3150 rows × 6 columns</p>\n",
       "</div>"
      ],
      "text/plain": [
       "      rating       date         variation  \\\n",
       "0          5  31-Jul-18  Charcoal Fabric    \n",
       "1          5  31-Jul-18  Charcoal Fabric    \n",
       "2          4  31-Jul-18    Walnut Finish    \n",
       "3          5  31-Jul-18  Charcoal Fabric    \n",
       "4          5  31-Jul-18  Charcoal Fabric    \n",
       "...      ...        ...               ...   \n",
       "3145       5  30-Jul-18        Black  Dot   \n",
       "3146       5  30-Jul-18        Black  Dot   \n",
       "3147       5  30-Jul-18        Black  Dot   \n",
       "3148       5  30-Jul-18        White  Dot   \n",
       "3149       4  29-Jul-18        Black  Dot   \n",
       "\n",
       "                                       verified_reviews  feedback  length  \n",
       "0                                         Love my Echo!         1      13  \n",
       "1                                             Loved it!         1       9  \n",
       "2     Sometimes while playing a game, you can answer...         1     195  \n",
       "3     I have had a lot of fun with this thing. My 4 ...         1     172  \n",
       "4                                                 Music         1       5  \n",
       "...                                                 ...       ...     ...  \n",
       "3145  Perfect for kids, adults and everyone in betwe...         1      50  \n",
       "3146  Listening to music, searching locations, check...         1     135  \n",
       "3147  I do love these things, i have them running my...         1     441  \n",
       "3148  Only complaint I have is that the sound qualit...         1     380  \n",
       "3149                                               Good         1       4  \n",
       "\n",
       "[3150 rows x 6 columns]"
      ]
     },
     "execution_count": 7,
     "metadata": {},
     "output_type": "execute_result"
    },
    {
     "data": {
      "image/png": "[encoded data removed]",
      "text/plain": [
       "<Figure size 640x480 with 1 Axes>"
      ]
     },
     "metadata": {},
     "output_type": "display_data"
    }
   ],
   "source": [
    "review_df[\"len_50\"] = (review_df['verified_reviews'].apply(len)//50)*50 + 50\n",
    "sns.countplot(x = review_df[\"len_50\"].loc[review_df['len_50'] < 10*50], hue  = review_df[\"rating\"].loc[review_df['len_50'] < 10*50])\n",
    "review_df.drop([\"len_50\"], axis=1)"
   ]
  },
  {
   "cell_type": "code",
   "execution_count": 8,
   "metadata": {},
   "outputs": [
    {
     "data": {
      "text/plain": [
       "\"Incredible piece of technology.I have this right center of my living room on an island kitchen counter. The mic and speaker goes in every direction and the quality of the sound is quite good. I connected the Echo via Bluetooth to my Sony soundbar on my TV but find the Echo placement and 360 sound more appealing. It's no audiophile equipment but there is good range and decent bass. The sound is more than adequate for any indoor entertaining and loud enough to bother neighbors in my building. The knob on the top works great for adjusting volume. This is my first Echo device and I would imagine having to press volume buttons (on the Echo 2) a large inconvenience and not as precise. For that alone I would recommend this over the regular Echo (2nd generation).The piece looks quality and is quite sturdy with some weight on it. The rubber material on the bottom has a good grip on the granite counter-- my cat can even rub her scent on it without tipping it over.This order came with a free Philips Hue Bulb which I installed along with an extra one I bought. I put the 2 bulbs into my living room floor lamp, turned on the light, and all I had to do was say &#34;Alexa, connect my devices&#34;. The default names for each bulb was assigned as &#34;First light&#34; and &#34;Second light&#34;, so I can have a dimmer floor lamp if I just turned on/off one of the lights by saying &#34;Alexa, turn off the second light&#34;. In the Alexa app, I created a 'Group' with &#34;First light&#34; and &#34;Second light&#34; and named the group &#34;The light&#34;, so to turn on the lamp with both bulbs shining I just say &#34;Alexa, turn on The light&#34;.I was surprised how easily the bulbs connected to the Echo Plus with its built in hub. I thought I would have to buy a hub bridge to connect to my floor lamp power plug. Apparently there is some technology built directly inside the bulb! I was surprised by that. Awesome.You will feel like Tony Stark on this device. I added quite a few &#34;Skills&#34; like 'Thunderstorm sounds' and 'Quote of the day' . Alexa always loads them up quickly. Adding songs that you hear to specific playlists on Amazon Music is also a great feature.I can go on and on and this is only my second day of ownership.I was lucky to buy this for $100 on Prime Day, but I think for $150 is it pretty expensive considering the Echo 2 is only $100. In my opinion, you will be paying a premium for the Echo Plus and you have to decide if the value is there for you:1) Taller and 360 sound unit.2) Volume knob on top that you spin (I think this is a huge benefit over buttons)3) Built in hub for Hue bulbs. After researching more, there are some cons to this setup if you plan on having more advanced light setups. For me and my floor lamp, it's just perfect.I highly recommend it and will buy an Echo dot for my bedroom now.\""
      ]
     },
     "execution_count": 8,
     "metadata": {},
     "output_type": "execute_result"
    }
   ],
   "source": [
    "review_df[review_df['length'] == 2851][\"verified_reviews\"].iloc[0]"
   ]
  },
  {
   "cell_type": "code",
   "execution_count": 9,
   "metadata": {},
   "outputs": [],
   "source": [
    "def delete_puncNstop(massage):\n",
    "    import string\n",
    "    stopwords = nltk.corpus.stopwords.words('english')\n",
    "    \n",
    "    pattern = r'[^a-zA-z0-9\\s]'\n",
    "    text = re.sub(pattern, '', massage)\n",
    "    return([word for word in text.split() if word.lower not in stopwords])\n",
    "def join_massage(Listmassage):\n",
    "    return(\" \".join(Listmassage))\n",
    "def remove_contract(massage):\n",
    "    return(contractions.fix(massage))"
   ]
  },
  {
   "cell_type": "code",
   "execution_count": 10,
   "metadata": {},
   "outputs": [],
   "source": [
    "review_df['cleaned_reviews'] = review_df['verified_reviews'].apply(delete_puncNstop).apply(join_massage).apply(remove_contract)"
   ]
  },
  {
   "cell_type": "code",
   "execution_count": 11,
   "metadata": {},
   "outputs": [
    {
     "ename": "ModuleNotFoundError",
     "evalue": "No module named 'wordcloud'",
     "output_type": "error",
     "traceback": [
      "\u001b[1;31m---------------------------------------------------------------------------\u001b[0m",
      "\u001b[1;31mModuleNotFoundError\u001b[0m                       Traceback (most recent call last)",
      "\u001b[1;32mg:\\project\\sentiment-alexa-review\\main.ipynb Cell 11\u001b[0m in \u001b[0;36m1\n\u001b[1;32m----> <a href='vscode-notebook-cell:/g%3A/project/sentiment-alexa-review/main.ipynb#X13sZmlsZQ%3D%3D?line=0'>1</a>\u001b[0m \u001b[39mfrom\u001b[39;00m \u001b[39mwordcloud\u001b[39;00m \u001b[39mimport\u001b[39;00m WordCloud\n\u001b[0;32m      <a href='vscode-notebook-cell:/g%3A/project/sentiment-alexa-review/main.ipynb#X13sZmlsZQ%3D%3D?line=1'>2</a>\u001b[0m FiveStar_review_as_one \u001b[39m=\u001b[39m review_df[\u001b[39m'\u001b[39m\u001b[39mcleaned_reviews\u001b[39m\u001b[39m'\u001b[39m]\u001b[39m.\u001b[39mloc[review_df[\u001b[39m'\u001b[39m\u001b[39mrating\u001b[39m\u001b[39m'\u001b[39m] \u001b[39m==\u001b[39m \u001b[39m5\u001b[39m]\u001b[39m.\u001b[39mapply(join_massage)\n\u001b[0;32m      <a href='vscode-notebook-cell:/g%3A/project/sentiment-alexa-review/main.ipynb#X13sZmlsZQ%3D%3D?line=2'>3</a>\u001b[0m FiveStar_review_as_one \u001b[39m=\u001b[39m \u001b[39m\"\u001b[39m\u001b[39m \u001b[39m\u001b[39m\"\u001b[39m\u001b[39m.\u001b[39mjoin(FiveStar_review_as_one)\n",
      "\u001b[1;31mModuleNotFoundError\u001b[0m: No module named 'wordcloud'"
     ]
    }
   ],
   "source": [
    "from wordcloud import WordCloud\n",
    "FiveStar_review_as_one = review_df['cleaned_reviews'].loc[review_df['rating'] == 5].apply(join_massage)\n",
    "FiveStar_review_as_one = \" \".join(FiveStar_review_as_one)\n",
    "plt.imshow(WordCloud().generate(FiveStar_review_as_one))"
   ]
  },
  {
   "cell_type": "code",
   "execution_count": 12,
   "metadata": {},
   "outputs": [
    {
     "name": "stdout",
     "output_type": "stream",
     "text": [
      "c:\\Users\\punpo\\AppData\\Local\\Programs\\Python\\Python311\\python.exe\n"
     ]
    }
   ],
   "source": [
    "import sys\n",
    "print(sys.executable)"
   ]
  },
  {
   "attachments": {},
   "cell_type": "markdown",
   "metadata": {},
   "source": [
    "This is a non sequence feature (cbow feature)"
   ]
  },
  {
   "cell_type": "code",
   "execution_count": 14,
   "metadata": {},
   "outputs": [
    {
     "name": "stdout",
     "output_type": "stream",
     "text": [
      "['072318' '10' '100' ... 'zwave' 'zzzz' 'zzzzzzz']\n"
     ]
    }
   ],
   "source": [
    "from sklearn.feature_extraction.text import CountVectorizer\n",
    "vectorizer = CountVectorizer()\n",
    "countvectorizer = vectorizer.fit_transform(review_df['cleaned_reviews'])\n",
    "print(vectorizer.get_feature_names_out())"
   ]
  },
  {
   "cell_type": "code",
   "execution_count": 22,
   "metadata": {},
   "outputs": [],
   "source": [
    "from sklearn.model_selection import train_test_split\n",
    "x_train, x_test, y_train, y_test = train_test_split(countvectorizer, review_df['rating'], test_size=0.2)"
   ]
  },
  {
   "cell_type": "code",
   "execution_count": 23,
   "metadata": {},
   "outputs": [
    {
     "name": "stderr",
     "output_type": "stream",
     "text": [
      "c:\\Users\\punpo\\AppData\\Local\\Programs\\Python\\Python311\\Lib\\site-packages\\sklearn\\linear_model\\_logistic.py:458: ConvergenceWarning: lbfgs failed to converge (status=1):\n",
      "STOP: TOTAL NO. of ITERATIONS REACHED LIMIT.\n",
      "\n",
      "Increase the number of iterations (max_iter) or scale the data as shown in:\n",
      "    https://scikit-learn.org/stable/modules/preprocessing.html\n",
      "Please also refer to the documentation for alternative solver options:\n",
      "    https://scikit-learn.org/stable/modules/linear_model.html#logistic-regression\n",
      "  n_iter_i = _check_optimize_result(\n"
     ]
    }
   ],
   "source": [
    "from sklearn.linear_model import LogisticRegression\n",
    "from sklearn.ensemble import RandomForestClassifier\n",
    "from sklearn.naive_bayes import MultinomialNB\n",
    "\n",
    "from sklearn.model_selection import cross_val_score\n",
    "\n",
    "RF_model = RandomForestClassifier(n_estimators=100, max_depth=3, random_state=0)\n",
    "NB_model = MultinomialNB()\n",
    "LR_model = LogisticRegression(random_state=0)\n",
    "\n",
    "models = [\n",
    "    RF_model,\n",
    "    NB_model,\n",
    "    LR_model\n",
    "]\n",
    "models_name = [\n",
    "    \"RF_model\",\n",
    "    \"NB_model\",\n",
    "    \"LR_model\"\n",
    "]\n",
    "\n",
    "model_collections = {}\n",
    "for index in range(len(models)) :\n",
    "    models[index].fit(x_train, y_train)\n",
    "    y_predict_test = models[index].predict(x_test)\n",
    "    model_collections[models_name[index]] = [models[index],y_predict_test]"
   ]
  },
  {
   "cell_type": "code",
   "execution_count": 24,
   "metadata": {},
   "outputs": [
    {
     "name": "stdout",
     "output_type": "stream",
     "text": [
      "RF_model\n",
      "              precision    recall  f1-score   support\n",
      "\n",
      "           1       0.00      0.00      0.00        39\n",
      "           2       0.00      0.00      0.00        13\n",
      "           3       0.00      0.00      0.00        42\n",
      "           4       0.00      0.00      0.00        82\n",
      "           5       0.72      1.00      0.84       454\n",
      "\n",
      "    accuracy                           0.72       630\n",
      "   macro avg       0.14      0.20      0.17       630\n",
      "weighted avg       0.52      0.72      0.60       630\n",
      "\n",
      "NB_model\n",
      "              precision    recall  f1-score   support\n",
      "\n",
      "           1       0.50      0.05      0.09        39\n",
      "           2       0.50      0.08      0.13        13\n",
      "           3       1.00      0.10      0.17        42\n",
      "           4       0.31      0.22      0.26        82\n",
      "           5       0.79      0.97      0.87       454\n",
      "\n",
      "    accuracy                           0.74       630\n",
      "   macro avg       0.62      0.28      0.31       630\n",
      "weighted avg       0.72      0.74      0.68       630\n",
      "\n",
      "LR_model\n",
      "              precision    recall  f1-score   support\n",
      "\n",
      "           1       0.82      0.46      0.59        39\n",
      "           2       0.56      0.38      0.45        13\n",
      "           3       0.78      0.43      0.55        42\n",
      "           4       0.51      0.35      0.42        82\n",
      "           5       0.84      0.96      0.90       454\n",
      "\n",
      "    accuracy                           0.81       630\n",
      "   macro avg       0.70      0.52      0.58       630\n",
      "weighted avg       0.79      0.81      0.79       630\n",
      "\n"
     ]
    },
    {
     "name": "stderr",
     "output_type": "stream",
     "text": [
      "c:\\Users\\punpo\\AppData\\Local\\Programs\\Python\\Python311\\Lib\\site-packages\\sklearn\\metrics\\_classification.py:1344: UndefinedMetricWarning: Precision and F-score are ill-defined and being set to 0.0 in labels with no predicted samples. Use `zero_division` parameter to control this behavior.\n",
      "  _warn_prf(average, modifier, msg_start, len(result))\n",
      "c:\\Users\\punpo\\AppData\\Local\\Programs\\Python\\Python311\\Lib\\site-packages\\sklearn\\metrics\\_classification.py:1344: UndefinedMetricWarning: Precision and F-score are ill-defined and being set to 0.0 in labels with no predicted samples. Use `zero_division` parameter to control this behavior.\n",
      "  _warn_prf(average, modifier, msg_start, len(result))\n",
      "c:\\Users\\punpo\\AppData\\Local\\Programs\\Python\\Python311\\Lib\\site-packages\\sklearn\\metrics\\_classification.py:1344: UndefinedMetricWarning: Precision and F-score are ill-defined and being set to 0.0 in labels with no predicted samples. Use `zero_division` parameter to control this behavior.\n",
      "  _warn_prf(average, modifier, msg_start, len(result))\n"
     ]
    }
   ],
   "source": [
    "from sklearn.metrics import classification_report, confusion_matrix\n",
    "for index in range(len(models_name)) :\n",
    "    print(models_name[index])\n",
    "    print(classification_report(y_test, model_collections[models_name[index]][1]))"
   ]
  },
  {
   "cell_type": "code",
   "execution_count": 25,
   "metadata": {},
   "outputs": [
    {
     "data": {
      "text/plain": [
       "Text(0.5, 23.52222222222222, 'Predicted')"
      ]
     },
     "execution_count": 25,
     "metadata": {},
     "output_type": "execute_result"
    },
    {
     "data": {
      "image/png": "[encoded data removed]",
      "text/plain": [
       "<Figure size 640x480 with 2 Axes>"
      ]
     },
     "metadata": {},
     "output_type": "display_data"
    }
   ],
   "source": [
    "cm = confusion_matrix(y_test, model_collections[\"LR_model\"][1])\n",
    "sns.heatmap(cm, annot=True)\n",
    "plt.title(\"Logistic Regression\")\n",
    "plt.ylabel('Actual')\n",
    "plt.xlabel('Predicted')"
   ]
  },
  {
   "cell_type": "code",
   "execution_count": 26,
   "metadata": {},
   "outputs": [
    {
     "name": "stdout",
     "output_type": "stream",
     "text": [
      "[[ 11   7  13 ...   0   0   0]\n",
      " [255   4   0 ...   0   0   0]\n",
      " [289 176 173 ...   0   0   0]\n",
      " ...\n",
      " [  2  34  11 ...   0   0   0]\n",
      " [ 91 895   2 ...   0   0   0]\n",
      " [ 50   0   0 ...   0   0   0]]\n"
     ]
    }
   ],
   "source": [
    "import keras\n",
    "from keras.preprocessing.text import Tokenizer\n",
    "tokenizer = Tokenizer()\n",
    "#set tokenizer to know all word\n",
    "tokenizer.fit_on_texts(review_df['cleaned_reviews'])\n",
    "#set sequences\n",
    "sequences = tokenizer.texts_to_sequences(review_df['cleaned_reviews'])\n",
    "#padding\n",
    "sequences = keras.utils.pad_sequences(sequences, padding='post')\n",
    "sequences = np.array(sequences)\n",
    "print(sequences)\n",
    "#(tokenizer.word_index)"
   ]
  },
  {
   "cell_type": "code",
   "execution_count": 27,
   "metadata": {},
   "outputs": [
    {
     "name": "stdout",
     "output_type": "stream",
     "text": [
      "      0     1    2     3    4    5    6    7    8     9    ...  515  516  517  \\\n",
      "833     2    11    1    42   86   16   14  309    4     8  ...    0    0    0   \n",
      "1118    2  3001   14   203  114    4   53    9  607  2149  ...    0    0    0   \n",
      "1199    2   233   14   122  105    6  159   61   34   347  ...    0    0    0   \n",
      "3026   33    45   69  1441   14   39   77    5   23    95  ...    0    0    0   \n",
      "839   558   198   12    51   13   52  170   52  585    52  ...    0    0    0   \n",
      "...   ...   ...  ...   ...  ...  ...  ...  ...  ...   ...  ...  ...  ...  ...   \n",
      "1203   33    27    4    38  383    0    0    0    0     0  ...    0    0    0   \n",
      "1269    1    13  133     8  818  134   42    5  423    86  ...    0    0    0   \n",
      "2491    2  2421   77     3   55  114    1   67  227     3  ...    0    0    0   \n",
      "1000   35    17   10    25    6  122  397    3  414    77  ...    0    0    0   \n",
      "1115    2    27   94   191    4    8   20    2   32    69  ...    0    0    0   \n",
      "\n",
      "      518  519  520  521  522  523  524  \n",
      "833     0    0    0    0    0    0    0  \n",
      "1118    0    0    0    0    0    0    0  \n",
      "1199    0    0    0    0    0    0    0  \n",
      "3026    0    0    0    0    0    0    0  \n",
      "839     0    0    0    0    0    0    0  \n",
      "...   ...  ...  ...  ...  ...  ...  ...  \n",
      "1203    0    0    0    0    0    0    0  \n",
      "1269    0    0    0    0    0    0    0  \n",
      "2491    0    0    0    0    0    0    0  \n",
      "1000    0    0    0    0    0    0    0  \n",
      "1115    0    0    0    0    0    0    0  \n",
      "\n",
      "[2520 rows x 525 columns]\n"
     ]
    }
   ],
   "source": [
    "data = {'data': pd.DataFrame(sequences), 'rating': review_df['rating'] }\n",
    "from sklearn.model_selection import train_test_split\n",
    "x_train, x_test, y_train, y_test = train_test_split(data[\"data\"], data[\"rating\"], test_size=0.2)\n",
    "from sklearn.preprocessing import LabelEncoder\n",
    "le = LabelEncoder()\n",
    "y_train = le.fit_transform(y_train.values)\n",
    "y_test = le.transform(y_test.values)\n",
    "print(x_train)"
   ]
  },
  {
   "cell_type": "code",
   "execution_count": 28,
   "metadata": {},
   "outputs": [
    {
     "data": {
      "text/plain": [
       "'incredible piece of technologyi have this right center of my living room on an island kitchen counter the mic and speaker goes in every direction and the quality of the sound is quite good i connected the echo via bluetooth to my sony soundbar on my tv but find the echo placement and 360 sound more appealing its no audiophile equipment but there is good range and decent bass the sound is more than adequate for any indoor entertaining and loud enough to bother neighbors in my building the knob on the top works great for adjusting volume this is my first echo device and i would imagine having to press volume buttons on the echo 2 a large inconvenience and not as precise for that alone i would recommend this over the regular echo 2nd generationthe piece looks quality and is quite sturdy with some weight on it the rubber material on the bottom has a good grip on the granite counter my cat can even rub her scent on it without tipping it overthis order came with a free philips hue bulb which i installed along with an extra one i bought i put the 2 bulbs into my living room floor lamp turned on the light and all i had to do was say 34alexa connect my devices34 the default names for each bulb was assigned as 34first light34 and 34second light34 so i can have a dimmer floor lamp if i just turned onoff one of the lights by saying 34alexa turn off the second light34 in the alexa app i created a group with 34first light34 and 34second light34 and named the group 34the light34 so to turn on the lamp with both bulbs shining i just say 34alexa turn on the light34i was surprised how easily the bulbs connected to the echo plus with its built in hub i thought i would have to buy a hub bridge to connect to my floor lamp power plug apparently there is some technology built directly inside the bulb i was surprised by that awesomeyou will feel like tony stark on this device i added quite a few 34skills34 like thunderstorm sounds and quote of the day alexa always loads them up quickly adding songs that you hear to specific playlists on amazon music is also a great featurei can go on and on and this is only my second day of ownershipi was lucky to buy this for 100 on prime day but i think for 150 is it pretty expensive considering the echo 2 is only 100 in my opinion you will be paying a premium for the echo plus and you have to decide if the value is there for you1 taller and 360 sound unit2 volume knob on top that you spin i think this is a huge benefit over buttons3 built in hub for hue bulbs after researching more there are some cons to this setup if you plan on having more advanced light setups for me and my floor lamp its just perfecti highly recommend it and will buy an echo dot for my bedroom now'"
      ]
     },
     "execution_count": 28,
     "metadata": {},
     "output_type": "execute_result"
    }
   ],
   "source": [
    "test =  pd.DataFrame(sequences)\n",
    "longest_text = np.array(test[test.iloc[:, 524]!=0])\n",
    "# Creating a reverse dictionary\n",
    "reverse_word_map = dict(map(reversed, tokenizer.word_index.items()))\n",
    "# Creating texts \n",
    "text = tokenizer.sequences_to_texts(longest_text)\n",
    "\"\".join(text[0])\n"
   ]
  },
  {
   "attachments": {},
   "cell_type": "markdown",
   "metadata": {},
   "source": [
    "Since Logistic Regression get the highest score, I will try useing Deep learning model and then compare with classical model."
   ]
  },
  {
   "cell_type": "code",
   "execution_count": 29,
   "metadata": {},
   "outputs": [],
   "source": [
    "def process_glove_line(line, dim):\n",
    "    word = None\n",
    "    embedding = None\n",
    "\n",
    "    try:\n",
    "        splitLine = line.split()\n",
    "        word = \" \".join(splitLine[:len(splitLine)-dim])\n",
    "        embedding = np.array([float(val) for val in splitLine[-dim:]])\n",
    "    except:\n",
    "        print(line)\n",
    "\n",
    "    return word, embedding\n",
    "\n",
    "def load_glove_model(glove_filepath, dim):\n",
    "    with open(glove_filepath, encoding=\"utf8\" ) as f:\n",
    "        content = f.readlines()\n",
    "        model = {}\n",
    "        for line in content:\n",
    "            word, embedding = process_glove_line(line, dim)\n",
    "            if embedding is not None:\n",
    "                model[word] = embedding\n",
    "        return model\n",
    "\n",
    "dict_word = load_glove_model(r\"G:\\project\\glove_en_300d\\glove.840B.300d.txt\", 300)"
   ]
  },
  {
   "cell_type": "code",
   "execution_count": 30,
   "metadata": {},
   "outputs": [
    {
     "name": "stdout",
     "output_type": "stream",
     "text": [
      "300\n"
     ]
    }
   ],
   "source": [
    "word = \"apple\"\n",
    "vec = dict_word[word]\n",
    "print(len(vec))"
   ]
  },
  {
   "cell_type": "code",
   "execution_count": 31,
   "metadata": {},
   "outputs": [
    {
     "name": "stdout",
     "output_type": "stream",
     "text": [
      "6.866914429210811\n"
     ]
    }
   ],
   "source": [
    "word1 = \"spoon\"\n",
    "word2 = \"car\"\n",
    "embedding1 = dict_word[word1]\n",
    "embedding2 = dict_word[word2]\n",
    "dot_product = np.dot(embedding1, embedding2)\n",
    "print(dot_product)\n"
   ]
  },
  {
   "cell_type": "code",
   "execution_count": 35,
   "metadata": {},
   "outputs": [
    {
     "data": {
      "text/plain": [
       "array([[-3.8333e-02,  3.6881e-01,  7.7372e-02, -2.6962e-01, -9.4243e-02,\n",
       "         1.1634e-01, -1.4966e-01,  1.3969e-01,  1.0822e-01,  9.3947e-01,\n",
       "        -2.1103e-01,  1.7691e-01,  5.2420e-01, -1.7556e-01, -3.0912e-01,\n",
       "         1.3950e-01,  1.2638e-01,  3.1445e-01, -2.5230e-01,  5.5967e-01,\n",
       "        -3.3589e-01, -1.3380e-01,  1.5156e-02,  1.4356e-01,  7.5518e-02,\n",
       "         5.4014e-02,  5.7780e-01, -1.2364e-01,  1.0352e-01,  1.1549e-01,\n",
       "        -1.5390e-01,  4.4175e-01, -4.5814e-01,  9.2369e-02,  5.3782e-01,\n",
       "        -2.6845e-01,  6.1141e-02, -6.5052e-02,  4.3378e-02, -4.3627e-01,\n",
       "         2.0961e-01,  4.1891e-01, -5.3694e-02,  1.2512e-01,  1.5529e-01,\n",
       "        -3.1931e-01, -5.0004e-01,  3.0397e-01,  9.5254e-02,  1.1168e-01,\n",
       "         6.8930e-02, -9.7070e-02,  7.1169e-02, -1.5866e-01,  3.1495e-01,\n",
       "         7.9074e-02, -4.0505e-02, -2.4655e-01, -3.7511e-02, -4.7485e-01,\n",
       "         4.0225e-01, -2.5990e-01, -6.3343e-01, -2.8424e-01, -4.8198e-01,\n",
       "        -8.9711e-02, -3.2339e-02,  1.7095e-01, -6.4659e-01, -1.6637e-01,\n",
       "        -2.6632e-01,  3.4977e-01,  1.0658e-01,  1.7824e-01, -1.2186e-01,\n",
       "         3.5850e-01, -1.3815e-01, -4.4076e-02,  1.6330e-02, -4.2026e-01,\n",
       "         3.0871e-01,  9.0462e-02,  1.9084e-01,  1.2318e-01,  3.8109e-02,\n",
       "        -5.3558e-01, -9.1337e-01, -1.0575e-01,  6.6712e-02, -4.5849e-01,\n",
       "         2.3712e-01, -1.6963e-01,  9.5145e-02,  3.0186e-01, -7.8059e-02,\n",
       "         5.6322e-01,  3.1344e-01,  2.5123e-01, -3.1318e-01, -4.1113e-01,\n",
       "         6.1557e-02,  9.6380e-03, -1.4634e-01,  2.8042e-01,  1.1989e-01,\n",
       "         2.7664e+00,  1.1559e-01,  1.0536e-01, -4.1025e-01,  1.8512e-01,\n",
       "        -5.1459e-03,  5.0334e-01,  2.0649e-01, -1.3044e-01,  2.6625e-02,\n",
       "        -3.5646e-01, -1.1621e-01,  4.9207e-01,  4.2944e-01,  2.0062e-01,\n",
       "        -3.8073e-02, -1.8505e-02,  3.6818e-02, -1.0956e-01,  3.5884e-01,\n",
       "         4.2598e-01,  7.7222e-02, -1.0155e-01, -3.3440e-02, -4.7644e-02,\n",
       "        -1.8004e-01, -9.9839e-02, -4.9472e-01,  9.0119e-02,  3.3096e-01,\n",
       "         3.9387e-02,  3.0920e-01, -9.6415e-02, -7.1174e-02, -1.7631e-01,\n",
       "        -2.4927e+00,  1.5453e-01, -1.4401e-01,  3.1355e-02, -5.3256e-01,\n",
       "        -3.5738e-01, -2.5374e-02,  1.5993e-01, -3.9545e-02, -3.9899e-01,\n",
       "         8.3434e-02,  5.0519e-01,  6.8213e-02,  3.0065e-01, -4.5124e-02,\n",
       "        -9.8328e-02, -2.9033e-01, -1.9513e-01, -3.6646e-01, -1.9440e-01,\n",
       "        -3.6299e-02,  5.3348e-01,  3.7532e-01, -1.2941e-01, -2.2713e-01,\n",
       "         6.2531e-01,  4.3110e-01, -7.5890e-02, -1.0819e-01,  2.0143e-01,\n",
       "         3.3218e-01, -9.2333e-02,  4.9354e-01, -3.6983e-01,  5.3622e-01,\n",
       "         2.4374e-01,  1.3564e-02,  1.1654e-01,  4.7004e-01, -3.6927e-01,\n",
       "         4.6553e-02, -8.6304e-02,  9.5818e-02,  1.1405e-01, -2.0739e-01,\n",
       "         1.1108e-02, -6.5072e-01, -5.1143e-01, -2.3254e-01, -3.8251e-01,\n",
       "         1.7164e-02, -3.9897e-01,  1.3718e-02, -2.6909e-01, -2.0334e-02,\n",
       "         3.8791e-01, -2.9971e-01, -3.5219e-01,  2.5348e-02,  3.9941e-01,\n",
       "        -2.2032e-01, -1.8066e-01, -9.6742e-02,  1.2017e-01,  2.0423e-01,\n",
       "        -1.5273e-01,  1.9032e-01,  1.4973e-01, -1.6521e-01,  5.1353e-02,\n",
       "         2.2415e-01,  1.5360e-02, -1.4408e-01, -4.9952e-01, -8.8421e-02,\n",
       "         2.1966e-01, -5.5280e-02, -3.4591e-02, -3.2399e-02,  1.0314e-01,\n",
       "         1.2582e-01, -5.4805e-02,  9.1260e-03,  4.7838e-01, -1.0075e-01,\n",
       "         5.9683e-02,  6.6511e-01, -2.2093e-01,  1.2236e-02, -1.3784e-01,\n",
       "        -2.3597e-01,  1.2941e-01, -3.2942e-01, -1.0278e-01, -3.7381e-02,\n",
       "        -1.9547e-01,  2.1532e-01, -4.8654e-01, -7.6541e-02, -1.2013e-01,\n",
       "        -7.8619e-02, -1.4660e-01,  7.3885e-02,  3.6626e-01,  1.5269e-01,\n",
       "        -5.1078e-01, -3.0991e-01, -4.6825e-01, -1.6962e-01,  9.4767e-02,\n",
       "         2.4620e-02,  1.5261e-01, -1.0349e-01, -4.0185e-01, -4.4350e-02,\n",
       "         4.1985e-01,  1.2555e-01, -2.3542e-01, -1.0531e-01, -9.3806e-02,\n",
       "        -4.1715e-01,  8.4533e-02, -3.7747e-01,  8.8908e-02, -2.4116e-01,\n",
       "         3.7635e-01,  5.3055e-01,  4.5678e-01,  1.2806e-01, -1.5772e-01,\n",
       "        -3.8882e-01, -1.2493e-01, -8.5409e-01,  6.8636e-02,  1.5188e-01,\n",
       "         1.4761e-02, -1.1509e-01, -4.5676e-01,  4.9251e-01,  4.9911e-01,\n",
       "         1.0774e-01, -3.0991e-01,  1.8884e-01, -7.1249e-01, -1.2586e-01,\n",
       "         1.1072e-01,  2.4125e-01,  2.5425e-01, -1.9923e-01, -3.7429e-01,\n",
       "        -1.9759e-01,  1.5944e-01,  5.6284e-01,  1.3012e-01,  2.9266e-02,\n",
       "        -2.0924e-01,  2.3901e-01, -3.7868e-03,  1.4190e-01,  3.0889e-02],\n",
       "       [ 8.6490e-02,  1.4503e-01, -4.9020e-01,  3.4224e-01,  3.6343e-01,\n",
       "         1.0046e-01, -1.4904e-01, -2.8116e-01, -5.5426e-02,  2.2254e+00,\n",
       "        -5.2802e-01,  1.7555e-01,  4.4629e-01, -2.5423e-01, -2.3005e-01,\n",
       "         2.8273e-01, -3.2839e-01,  1.1809e+00, -2.0102e-01,  4.0550e-01,\n",
       "         7.7948e-02, -3.0626e-02, -2.5645e-01,  2.0382e-01,  1.4024e-01,\n",
       "        -9.0318e-02, -1.8409e-01, -8.3644e-02,  2.5134e-02,  2.3830e-01,\n",
       "         1.3716e-01,  7.9497e-01, -2.5215e-01,  1.9113e-01, -3.4871e-01,\n",
       "         8.3896e-02,  9.2502e-02, -1.2733e-01,  3.2554e-02, -1.9932e-01,\n",
       "        -1.3670e-01,  2.3516e-02, -2.8336e-01,  8.8996e-02,  1.8914e-01,\n",
       "         4.1926e-01, -1.4874e-02, -6.2269e-02,  4.0566e-01, -1.4701e-01,\n",
       "        -1.5678e-01, -9.6457e-02, -3.1084e-01, -6.7936e-02, -1.2819e-01,\n",
       "         1.4578e-01, -3.4727e-01, -2.5544e-01,  2.2988e-01, -1.4723e-01,\n",
       "        -1.6260e-01, -2.9338e-01,  1.1390e-01,  3.9083e-01,  3.5090e-01,\n",
       "        -4.4009e-01,  8.4594e-02, -8.3368e-02,  2.7849e-03,  1.6447e-01,\n",
       "         6.4108e-02, -3.1757e-02,  1.3570e-01,  3.4270e-01,  5.0767e-01,\n",
       "         7.7693e-01,  3.5623e-01,  7.2142e-02, -6.1138e-01,  3.7191e-01,\n",
       "        -2.7980e-01,  2.2835e-01, -3.5723e-02, -2.3143e-01,  4.9318e-01,\n",
       "        -4.4043e-02, -1.1046e-02, -2.1924e-01,  7.1074e-01,  5.0794e-02,\n",
       "        -3.6026e-01, -9.1583e-03, -1.1536e-01,  9.2753e-02,  3.1429e-02,\n",
       "         2.7683e-01,  5.0595e-01,  3.6222e-01, -3.3055e-02,  2.4026e-01,\n",
       "        -6.9162e-02, -4.7922e-01,  3.5508e-01, -3.3765e-01, -5.3376e-02,\n",
       "        -6.5572e-01,  3.9915e-01,  2.1376e-01,  1.8487e-01, -2.7262e-02,\n",
       "         9.1414e-03, -2.3223e-01,  4.7445e-01, -1.3179e-01, -6.0741e-02,\n",
       "        -2.3167e-01, -1.7494e-02, -3.8850e-02,  3.5665e-01,  4.6188e-02,\n",
       "         3.8138e-01, -3.6873e-03,  1.6731e-01,  2.7127e-01,  2.5930e-01,\n",
       "         1.2048e-01, -4.8027e-01,  7.7689e-03, -2.6060e-01,  1.2633e-02,\n",
       "        -4.6985e-02, -1.8704e-01, -4.7608e-01,  1.7892e-01,  2.0222e-01,\n",
       "        -6.0604e-02,  8.8039e-02,  5.3526e-01, -2.9017e-01, -6.0916e-02,\n",
       "        -2.5379e+00, -5.7191e-02,  1.4339e-01,  2.7595e-01, -2.4508e-01,\n",
       "         8.0092e-02, -4.4492e-01,  2.8164e-01, -3.3106e-01,  7.1944e-02,\n",
       "         4.3065e-02,  3.7418e-01,  1.4159e-01,  1.6011e-01, -1.2499e-01,\n",
       "        -1.4465e-01, -2.9438e-01,  5.1042e-02, -1.3550e-01, -5.1608e-01,\n",
       "        -3.1395e-01,  1.2282e-01,  1.9997e-01, -1.5330e-01, -4.6413e-01,\n",
       "        -2.5383e-01,  2.3725e-01, -2.1874e-02,  5.1442e-01, -4.7907e-02,\n",
       "        -3.7151e-01, -4.0656e-01,  3.8027e-01, -1.7518e-01, -1.5489e-01,\n",
       "         9.1234e-02, -1.3430e-01, -1.6683e-01,  3.0004e-02,  3.3897e-01,\n",
       "         6.2509e-02, -6.0273e-01, -1.9033e-01,  1.3567e-01,  3.4305e-01,\n",
       "         2.9398e-02, -4.5813e-01,  4.1065e-03, -1.2293e-01, -1.2666e-01,\n",
       "        -2.0712e-01, -2.3175e-01, -4.7678e-01, -4.2805e-01, -5.4709e-02,\n",
       "         4.1625e-01,  1.0676e-01, -3.6688e-01,  3.4666e-02, -2.7485e-01,\n",
       "        -4.2733e-01,  1.2676e-01, -5.1287e-01,  1.9720e-01,  1.9663e-01,\n",
       "         2.7434e-01,  2.5009e-01, -7.4376e-02, -1.0448e-01, -1.4711e-01,\n",
       "        -9.5771e-02, -3.5318e-01,  5.7833e-02, -2.1380e-01, -4.5816e-01,\n",
       "         2.4816e-01, -1.0105e-01, -5.0870e-01, -1.0283e-01,  1.6835e-01,\n",
       "        -2.5036e-01, -3.8801e-01, -3.5996e-01,  1.6515e-01, -1.9304e-01,\n",
       "        -1.6706e-01,  3.6214e-01,  2.5747e-01, -6.1679e-02, -1.2361e-01,\n",
       "        -2.9841e-01,  4.9856e-02, -9.6679e-02,  3.8874e-01,  3.7161e-02,\n",
       "        -4.0996e-01, -7.4966e-02,  5.2772e-02,  1.2400e-01,  1.6428e-02,\n",
       "        -1.2314e-01,  1.3512e-01, -4.1549e-02,  3.5705e-01,  2.8947e-01,\n",
       "        -4.6466e-01,  2.6842e-01, -3.1215e-01, -1.3293e-01,  3.2366e-01,\n",
       "        -2.7691e-02, -4.7780e-01, -1.6420e-01,  2.7262e-01,  3.1678e-01,\n",
       "         3.1460e-01, -1.8570e-01, -8.0949e-02,  2.1375e-02,  1.4424e-01,\n",
       "        -3.5131e-01,  1.1003e-01,  2.0629e-01, -1.0193e-01,  5.3866e-02,\n",
       "        -8.5467e-02, -1.6267e-01,  2.6481e-01, -3.3423e-01, -2.7493e-01,\n",
       "         5.9150e-01,  3.9267e-02, -4.7258e-01, -3.7820e-01, -2.7735e-02,\n",
       "         7.3521e-02, -2.6992e-01, -2.7970e-01, -2.3378e-02,  1.7129e-01,\n",
       "         8.3092e-03, -8.4584e-02, -5.8957e-02, -2.7106e-01, -1.9440e-02,\n",
       "        -2.4969e-01,  3.3390e-01, -6.4696e-02, -9.1844e-02, -6.9012e-02,\n",
       "        -2.8522e-01,  5.0941e-03,  4.0863e-01,  2.6674e-01,  1.8675e-01,\n",
       "        -1.4811e-01,  4.7236e-01,  2.5909e-01, -1.8599e-01,  8.5633e-03],\n",
       "       [ 1.5240e-01,  8.1065e-01, -5.8786e-01, -2.8061e-01, -1.4308e-01,\n",
       "        -1.9665e-01,  2.5974e-01, -3.9415e-01, -2.5858e-01,  3.4690e-01,\n",
       "         4.9608e-01, -4.2587e-02,  2.6217e-01, -3.8826e-01, -4.0015e-01,\n",
       "         2.0693e-01, -1.1158e-01, -3.5895e-03, -2.0496e-01,  1.5348e-01,\n",
       "         1.3691e-01, -2.6149e-03,  2.6275e-01, -1.3208e-01,  3.2407e-02,\n",
       "         2.3700e-01, -4.8020e-01,  4.5684e-01,  4.4702e-01,  3.1508e-01,\n",
       "        -3.0628e-01,  3.8778e-01, -2.6570e-01,  4.5864e-02, -7.3415e-02,\n",
       "         4.3014e-01,  1.8534e-01, -1.1042e-01, -2.7931e-01,  2.3430e-02,\n",
       "         4.5283e-01,  5.4949e-01, -2.5007e-01, -7.9274e-02,  8.6001e-02,\n",
       "        -2.7302e-01,  4.0864e-01,  9.6862e-02, -2.0398e-01,  3.0163e-01,\n",
       "        -1.1182e-01, -4.0182e-02, -2.0350e-01,  4.5893e-01, -4.2450e-01,\n",
       "        -5.3402e-01, -1.3361e-01,  7.2582e-02, -9.4152e-02,  1.1371e-02,\n",
       "        -2.1609e-01,  3.5774e-01, -1.8433e-01, -5.5022e-01,  1.1048e-01,\n",
       "        -2.6313e-01,  4.7914e-01, -1.7145e-01,  2.2120e-01,  7.6119e-02,\n",
       "        -3.5743e-01, -1.2410e-01, -2.1380e-01,  1.2401e-01,  2.2116e-01,\n",
       "         2.4529e-01, -6.2351e-01,  8.1532e-02, -1.4699e-01,  1.6801e-02,\n",
       "         1.1180e-01, -2.4825e-01, -1.2762e-01,  4.8298e-03, -6.0355e-02,\n",
       "        -4.9507e-02, -7.7944e-01,  7.8861e-01,  8.8106e-03,  5.9268e-01,\n",
       "        -3.1352e-01,  3.7496e-01, -9.0336e-03, -2.5174e-01, -9.2391e-03,\n",
       "         7.4432e-02,  1.8785e-01,  1.3016e-01,  5.7857e-02,  8.4124e-02,\n",
       "        -3.8683e-02,  3.5033e-04,  1.2722e-01,  9.6943e-03,  3.5874e-01,\n",
       "         1.3195e+00,  1.6883e-02,  2.8778e-01,  4.7838e-01,  7.0068e-02,\n",
       "        -2.5369e-02, -2.1878e-01,  1.9583e-01,  5.6446e-01,  5.7100e-01,\n",
       "         2.9892e-02,  2.1453e-01,  4.6048e-01, -5.1419e-01,  6.5413e-03,\n",
       "         2.1709e-01, -2.9851e-03, -2.0052e-02, -4.5109e-02,  2.8297e-02,\n",
       "        -2.5818e-01,  1.1569e-01,  5.1512e-03, -3.6581e-01, -1.6702e-01,\n",
       "         6.9124e-02, -2.3582e-01, -1.1302e-01, -1.1041e-01,  2.3439e-01,\n",
       "        -7.3834e-02, -2.4240e-01,  1.6226e-01,  3.7972e-01,  2.7937e-03,\n",
       "        -2.9747e-01,  3.0086e-01, -3.3807e-01, -2.0210e-01, -9.6255e-02,\n",
       "        -5.1983e-01, -2.8274e-01, -2.7026e-01,  2.3477e-01, -5.6907e-01,\n",
       "        -5.0449e-01, -1.0653e-01,  1.3246e-01,  1.7372e-01,  6.4069e-02,\n",
       "        -1.8391e-02, -2.4354e-01, -4.0927e-01, -1.1636e-02,  1.9023e-01,\n",
       "        -3.9713e-01,  2.8845e-01, -1.3651e-01, -1.4353e-02,  5.9401e-02,\n",
       "         1.1613e-01, -2.6065e-01, -2.2886e-01,  1.9043e-01, -4.1221e-01,\n",
       "         1.7725e-01, -1.7186e-01,  2.3649e-03, -2.0642e-01,  3.4993e-01,\n",
       "         3.9755e-02, -3.0651e-01, -5.1357e-01,  1.9814e-01, -6.9444e-02,\n",
       "        -2.1656e-01, -2.1381e-01, -1.7279e-02,  1.3169e-01, -2.7054e-02,\n",
       "        -1.8479e-01, -9.4146e-03,  2.0763e-01,  1.4485e-01, -2.9146e-01,\n",
       "         1.4060e-01,  3.5595e-01, -1.3641e-01,  2.3469e-01, -1.3288e-01,\n",
       "         1.6180e-01,  1.3584e-01, -4.9214e-01, -3.2422e-01,  9.2258e-01,\n",
       "        -2.8520e-01, -1.8056e-01,  6.0282e-02,  1.0923e-01,  1.4274e-01,\n",
       "         9.9750e-02, -1.6503e-01,  4.6128e-02, -2.2325e-01, -4.4710e-02,\n",
       "         3.4966e-01, -8.3078e-01, -3.6493e-01, -1.2838e-01,  3.0719e-01,\n",
       "        -5.8927e-02,  5.2247e-02,  3.9219e-01,  2.0742e-01,  2.6611e-01,\n",
       "         6.2027e-01, -8.3271e-03, -2.4564e-02,  5.9273e-02, -4.6444e-02,\n",
       "         3.7844e-02,  1.8288e-01, -9.8211e-02,  4.8683e-01, -2.2656e-01,\n",
       "         3.7038e-01, -3.0568e-01,  5.0535e-01, -6.9754e-02,  3.5411e-02,\n",
       "        -8.8242e-03, -5.3641e-02, -2.2823e-01,  2.9452e-01, -4.2379e-01,\n",
       "        -7.7365e-01, -1.3595e-01, -3.2551e-02, -1.1812e-01,  4.9227e-01,\n",
       "         2.9687e-01,  1.7469e-01, -4.7942e-02,  4.1746e-01,  1.5334e-01,\n",
       "         3.8402e-02, -2.5353e-01,  4.2432e-01, -1.4103e-01, -9.5192e-02,\n",
       "         6.9943e-02, -4.0199e-01,  2.0330e-01,  5.9098e-03, -1.8898e-02,\n",
       "         2.9706e-01, -1.6440e-02, -7.2535e-02, -6.0203e-01,  2.1813e-01,\n",
       "        -4.1246e-01,  4.4985e-01, -3.7887e-01,  2.4271e-01, -2.2827e-01,\n",
       "         3.0446e-02,  1.5887e-01,  6.8187e-02,  1.4855e-01,  5.7808e-01,\n",
       "        -2.5052e-01, -2.2136e-01,  3.0247e-01, -1.1193e-01, -1.1970e-01,\n",
       "        -6.6761e-02,  3.9570e-01, -5.2744e-02,  1.6263e-01,  4.3927e-01,\n",
       "        -1.3288e-02,  3.8097e-01,  2.6623e-01,  1.5308e-01,  1.1493e-01,\n",
       "        -6.3432e-01,  2.4190e-01,  3.0063e-02,  3.2825e-01,  1.7037e-01,\n",
       "        -6.0850e-01,  1.5663e-01,  9.1881e-02,  6.5728e-02, -5.2231e-02]])"
      ]
     },
     "execution_count": 35,
     "metadata": {},
     "output_type": "execute_result"
    }
   ],
   "source": [
    "embeddings = []\n",
    "words = review_df['cleaned_reviews'][0].split()\n",
    "for word in words:\n",
    "    if word in dict_word:\n",
    "        embeddings.append(dict_word[word])\n",
    "    else:\n",
    "        # If the word is not in the vocabulary, append a random vector\n",
    "        embeddings.append(np.random.normal(scale=0.6, size=(300,)))\n",
    "\n",
    "# Convert the list of embeddings to a numpy array\n",
    "embeddings_array = np.array(embeddings)\n",
    "embeddings_array"
   ]
  },
  {
   "cell_type": "code",
   "execution_count": 36,
   "metadata": {},
   "outputs": [
    {
     "data": {
      "text/plain": [
       "(3, 300)"
      ]
     },
     "execution_count": 36,
     "metadata": {},
     "output_type": "execute_result"
    }
   ],
   "source": [
    "embeddings_array.shape"
   ]
  }
 ],
 "metadata": {
  "kernelspec": {
   "display_name": "Python 3",
   "language": "python",
   "name": "python3"
  },
  "language_info": {
   "codemirror_mode": {
    "name": "ipython",
    "version": 3
   },
   "file_extension": ".py",
   "mimetype": "text/x-python",
   "name": "python",
   "nbconvert_exporter": "python",
   "pygments_lexer": "ipython3",
   "version": "3.11.1"
  },
  "orig_nbformat": 4,
  "vscode": {
   "interpreter": {
    "hash": "b28109d2aa39d029108bb64deacf4a0b67475128c3d044da2385632c79b545c6"
   }
  }
 },
 "nbformat": 4,
 "nbformat_minor": 2
}
